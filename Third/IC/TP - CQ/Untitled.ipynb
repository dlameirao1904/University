{
 "cells": [
  {
   "cell_type": "code",
   "execution_count": null,
   "id": "7a0c2fc2-dc63-45a3-807c-40f715f19910",
   "metadata": {},
   "outputs": [],
   "source": [
    "Zn = IntegerModRing(5)\n",
    "r = multiplicative_order(Zn(2))\n",
    "r"
   ]
  },
  {
   "cell_type": "code",
   "execution_count": null,
   "id": "63477deb-db35-475a-8281-766fc99a76d9",
   "metadata": {},
   "outputs": [],
   "source": []
  },
  {
   "cell_type": "code",
   "execution_count": null,
   "id": "81d9b8c6-711d-45d9-8579-1dd9554da6f8",
   "metadata": {},
   "outputs": [],
   "source": []
  }
 ],
 "metadata": {
  "kernelspec": {
   "display_name": "SageMath 9.0",
   "language": "sage",
   "name": "sagemath"
  },
  "language_info": {
   "name": ""
  }
 },
 "nbformat": 4,
 "nbformat_minor": 5
}
